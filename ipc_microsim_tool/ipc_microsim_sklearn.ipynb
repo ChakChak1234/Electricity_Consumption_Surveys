{
 "cells": [
  {
   "cell_type": "markdown",
   "metadata": {},
   "source": [
    "Author: Rohan Koodli\n",
    "Implementation of Electricity Consumption Microsimulation tool in Python with scikit-learn"
   ]
  },
  {
   "cell_type": "markdown",
   "metadata": {},
   "source": []
  },
  {
   "cell_type": "markdown",
   "metadata": {},
   "source": [
    "Formatting the data"
   ]
  },
  {
   "cell_type": "code",
   "execution_count": 13,
   "metadata": {
    "collapsed": false
   },
   "outputs": [],
   "source": [
    "import pandas as pd\n",
    "import numpy as np\n",
    "import os\n",
    "\n",
    "#getting current working directory\n",
    "path = os.getcwd() \n",
    "\n",
    "estimates = pd.read_csv(path + '/data/WPP-ESTIMATES-1950-2015.tab.txt',\n",
    "                        sep='\\t', index_col=None, na_values='')\n",
    "\n",
    "\n",
    "projections = pd.read_csv(path + '/data/WPP-PROJECTIONS-2015-2100.tab.txt',\n",
    "                          sep='\\t',index_col=None,na_values='')\n",
    "\n",
    "#print projections[0:2]\n",
    "\n",
    "#estimates.drop(estimates.columns[[0,1,2,3]],axis=1,inplace=True)\n",
    "\n",
    "estimates.drop(estimates.columns[[0,1,2,3]], axis=1, inplace=True)\n",
    "#print estimates[0:2]\n",
    "projections.drop(projections.columns[[0,1,2,3,70,71,72,73,74,75,76,77,78,79,80,81,82,83,84,85,86,87,88,89]], axis=1, inplace=True)\n",
    "#print projections[0:2]\n",
    "\n",
    "\n",
    "# putting data in numpy arrays\n",
    "medVariance_projections = np.array(projections[0:273])\n",
    "highVariance_projections = np.array(projections[274:547])\n",
    "lowVariance_projections = np.array(projections[548:821])\n",
    "constantFertility_projections = np.array(projections[822:1095])\n",
    "\n",
    "estimates = np.array(estimates)"
   ]
  },
  {
   "cell_type": "markdown",
   "metadata": {},
   "source": [
    "Now, we make the predictions based on population. We first import multiple models from the scikit-learn library."
   ]
  },
  {
   "cell_type": "code",
   "execution_count": 14,
   "metadata": {
    "collapsed": true
   },
   "outputs": [],
   "source": [
    "from sklearn import ensemble,tree,neighbors\n",
    "rfr = ensemble.RandomForestRegressor()\n",
    "dtr = tree.DecisionTreeRegressor()\n",
    "knr = neighbors.KNeighborsRegressor()\n",
    "#nnn = neural_network.BernoulliRBM()"
   ]
  },
  {
   "cell_type": "markdown",
   "metadata": {},
   "source": [
    "Evaluate the accuracy for each model based on cross-validation"
   ]
  },
  {
   "cell_type": "code",
   "execution_count": 15,
   "metadata": {
    "collapsed": false
   },
   "outputs": [
    {
     "name": "stdout",
     "output_type": "stream",
     "text": [
      "Random Forests [ 0.38557021  0.68589062  0.06491861]\n",
      "Decision Trees [ 0.47822301  0.73079106  0.34573344]\n",
      "Nearest Neighbors [ 0.24401931  0.72853479  0.52932424]\n"
     ]
    }
   ],
   "source": [
    "from sklearn.cross_validation import cross_val_score\n",
    "print 'Random Forests',cross_val_score(rfr,estimates,medVariance_projections)\n",
    "print 'Decision Trees',cross_val_score(dtr,estimates,medVariance_projections)\n",
    "print 'Nearest Neighbors',cross_val_score(knr,estimates,medVariance_projections)"
   ]
  },
  {
   "cell_type": "code",
   "execution_count": null,
   "metadata": {
    "collapsed": true
   },
   "outputs": [],
   "source": []
  }
 ],
 "metadata": {
  "anaconda-cloud": {},
  "kernelspec": {
   "display_name": "Python [Root]",
   "language": "python",
   "name": "Python [Root]"
  },
  "language_info": {
   "codemirror_mode": {
    "name": "ipython",
    "version": 2
   },
   "file_extension": ".py",
   "mimetype": "text/x-python",
   "name": "python",
   "nbconvert_exporter": "python",
   "pygments_lexer": "ipython2",
   "version": "2.7.12"
  }
 },
 "nbformat": 4,
 "nbformat_minor": 0
}
